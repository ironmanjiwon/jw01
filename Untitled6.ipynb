{
 "cells": [
  {
   "cell_type": "code",
   "execution_count": 6,
   "id": "ddfb04d6",
   "metadata": {},
   "outputs": [
    {
     "name": "stdout",
     "output_type": "stream",
     "text": [
      "http://apis.data.go.kr/B552895/openapi/service/OrgPriceAuctionService/getExactProdPriceList?ServiceKey=A%2BBdMRCb0HYcIl3JNbAKV2ycHzKiFx26SBUq%2FtXOV91Z71Mmhv1U7mAc3l7rwcGivvX1lpwF99hYx5Q9TZDN9g%3D%3D&pageNo=1&numOfRows=10&delngDe=20151202&prdlstCd=1001&_type=json\n",
      "{'items': {'item': [{'aucSeCode': 2, 'aucSeNm': '정가수의', 'catgoryCode': 10, 'catgoryNewCode': 10, 'catgoryNewNm': '엽경채류', 'catgoryNm': '엽경채류', 'cprInsttCode': 22000111, 'cprInsttNewCode': 6041404, 'cprMtcCode': 536000, 'cprMtcNm': '전라남도 해남군', 'cprUsePrdlstCode': 100100, 'cprUsePrdlstNm': '배추(일반)', 'delngDe': 20151202, 'delngPrut': 7, 'delngQy': 400, 'insttNewNm': '청과상장예외', 'insttNm': '청과상장예외', 'ledgNo': 15112903004, 'rnum': 1, 'sbidPric': 4000, 'shipmntSeCode': 3, 'shipmntSeNm': '개별', 'sleSeqn': 1000, 'stdFrmlcNewCode': '1ZZ', 'stdFrmlcNewNm': '기타', 'stdMgNewCode': '1ZZ', 'stdMgNewNm': '기타', 'stdMtcNewCode': 59000, 'stdMtcNewNm': '전라남도 해남군', 'stdPrdlstCode': 1001, 'stdPrdlstNewCode': 1001, 'stdPrdlstNewNm': '배추', 'stdPrdlstNm': '배추', 'stdQlityNewCode': 13, 'stdQlityNewNm': '보통', 'stdSpciesCode': 100101, 'stdSpciesNewCode': 100101, 'stdSpciesNewNm': '봄배추', 'stdSpciesNm': '봄배추', 'stdUnitNewCode': 12, 'stdUnitNewNm': 'kg', 'whsalMrktCode': 220001, 'whsalMrktNewCode': 1041401, 'whsalMrktNewNm': '대구북부도매시장', 'whsalMrktNm': '대구북부도매시장'}, {'aucSeCode': 2, 'aucSeNm': '정가수의', 'catgoryCode': 10, 'catgoryNewCode': 10, 'catgoryNewNm': '엽경채류', 'catgoryNm': '엽경채류', 'cprInsttCode': 22000111, 'cprInsttNewCode': 6041404, 'cprMtcCode': 536000, 'cprMtcNm': '전라남도 해남군', 'cprUsePrdlstCode': 100100, 'cprUsePrdlstNm': '배추(일반)', 'delngDe': 20151202, 'delngPrut': 7, 'delngQy': 200, 'insttNewNm': '청과상장예외', 'insttNm': '청과상장예외', 'ledgNo': 15112903004, 'rnum': 2, 'sbidPric': 4000, 'shipmntSeCode': 3, 'shipmntSeNm': '개별', 'sleSeqn': 1001, 'stdFrmlcNewCode': '1ZZ', 'stdFrmlcNewNm': '기타', 'stdMgNewCode': '1ZZ', 'stdMgNewNm': '기타', 'stdMtcNewCode': 59000, 'stdMtcNewNm': '전라남도 해남군', 'stdPrdlstCode': 1001, 'stdPrdlstNewCode': 1001, 'stdPrdlstNewNm': '배추', 'stdPrdlstNm': '배추', 'stdQlityNewCode': 13, 'stdQlityNewNm': '보통', 'stdSpciesCode': 100101, 'stdSpciesNewCode': 100101, 'stdSpciesNewNm': '봄배추', 'stdSpciesNm': '봄배추', 'stdUnitNewCode': 12, 'stdUnitNewNm': 'kg', 'whsalMrktCode': 220001, 'whsalMrktNewCode': 1041401, 'whsalMrktNewNm': '대구북부도매시장', 'whsalMrktNm': '대구북부도매시장'}, {'aucSeCode': 2, 'aucSeNm': '정가수의', 'catgoryCode': 10, 'catgoryNewCode': 10, 'catgoryNewNm': '엽경채류', 'catgoryNm': '엽경채류', 'cprInsttCode': 22000111, 'cprInsttNewCode': 6041404, 'cprMtcCode': 536000, 'cprMtcNm': '전라남도 해남군', 'cprUsePrdlstCode': 100100, 'cprUsePrdlstNm': '배추(일반)', 'delngDe': 20151202, 'delngPrut': 7, 'delngQy': 200, 'insttNewNm': '청과상장예외', 'insttNm': '청과상장예외', 'ledgNo': 15112903004, 'rnum': 3, 'sbidPric': 4000, 'shipmntSeCode': 3, 'shipmntSeNm': '개별', 'sleSeqn': 1002, 'stdFrmlcNewCode': '1ZZ', 'stdFrmlcNewNm': '기타', 'stdMgNewCode': '1ZZ', 'stdMgNewNm': '기타', 'stdMtcNewCode': 59000, 'stdMtcNewNm': '전라남도 해남군', 'stdPrdlstCode': 1001, 'stdPrdlstNewCode': 1001, 'stdPrdlstNewNm': '배추', 'stdPrdlstNm': '배추', 'stdQlityNewCode': 13, 'stdQlityNewNm': '보통', 'stdSpciesCode': 100101, 'stdSpciesNewCode': 100101, 'stdSpciesNewNm': '봄배추', 'stdSpciesNm': '봄배추', 'stdUnitNewCode': 12, 'stdUnitNewNm': 'kg', 'whsalMrktCode': 220001, 'whsalMrktNewCode': 1041401, 'whsalMrktNewNm': '대구북부도매시장', 'whsalMrktNm': '대구북부도매시장'}, {'aucSeCode': 2, 'aucSeNm': '정가수의', 'catgoryCode': 10, 'catgoryNewCode': 10, 'catgoryNewNm': '엽경채류', 'catgoryNm': '엽경채류', 'cprInsttCode': 22000111, 'cprInsttNewCode': 6041404, 'cprMtcCode': 536000, 'cprMtcNm': '전라남도 해남군', 'cprUsePrdlstCode': 100100, 'cprUsePrdlstNm': '배추(일반)', 'delngDe': 20151202, 'delngPrut': 7, 'delngQy': 200, 'insttNewNm': '청과상장예외', 'insttNm': '청과상장예외', 'ledgNo': 15112903004, 'rnum': 4, 'sbidPric': 4000, 'shipmntSeCode': 3, 'shipmntSeNm': '개별', 'sleSeqn': 1003, 'stdFrmlcNewCode': '1ZZ', 'stdFrmlcNewNm': '기타', 'stdMgNewCode': '1ZZ', 'stdMgNewNm': '기타', 'stdMtcNewCode': 59000, 'stdMtcNewNm': '전라남도 해남군', 'stdPrdlstCode': 1001, 'stdPrdlstNewCode': 1001, 'stdPrdlstNewNm': '배추', 'stdPrdlstNm': '배추', 'stdQlityNewCode': 13, 'stdQlityNewNm': '보통', 'stdSpciesCode': 100101, 'stdSpciesNewCode': 100101, 'stdSpciesNewNm': '봄배추', 'stdSpciesNm': '봄배추', 'stdUnitNewCode': 12, 'stdUnitNewNm': 'kg', 'whsalMrktCode': 220001, 'whsalMrktNewCode': 1041401, 'whsalMrktNewNm': '대구북부도매시장', 'whsalMrktNm': '대구북부도매시장'}, {'aucSeCode': 2, 'aucSeNm': '정가수의', 'catgoryCode': 10, 'catgoryNewCode': 10, 'catgoryNewNm': '엽경채류', 'catgoryNm': '엽경채류', 'cprInsttCode': 22000111, 'cprInsttNewCode': 6041404, 'cprMtcCode': 536000, 'cprMtcNm': '전라남도 해남군', 'cprUsePrdlstCode': 100100, 'cprUsePrdlstNm': '배추(일반)', 'delngDe': 20151202, 'delngPrut': 7, 'delngQy': 200, 'insttNewNm': '청과상장예외', 'insttNm': '청과상장예외', 'ledgNo': 15112903007, 'rnum': 5, 'sbidPric': 4000, 'shipmntSeCode': 3, 'shipmntSeNm': '개별', 'sleSeqn': 1000, 'stdFrmlcNewCode': '1ZZ', 'stdFrmlcNewNm': '기타', 'stdMgNewCode': '1ZZ', 'stdMgNewNm': '기타', 'stdMtcNewCode': 59000, 'stdMtcNewNm': '전라남도 해남군', 'stdPrdlstCode': 1001, 'stdPrdlstNewCode': 1001, 'stdPrdlstNewNm': '배추', 'stdPrdlstNm': '배추', 'stdQlityNewCode': 13, 'stdQlityNewNm': '보통', 'stdSpciesCode': 100101, 'stdSpciesNewCode': 100101, 'stdSpciesNewNm': '봄배추', 'stdSpciesNm': '봄배추', 'stdUnitNewCode': 12, 'stdUnitNewNm': 'kg', 'whsalMrktCode': 220001, 'whsalMrktNewCode': 1041401, 'whsalMrktNewNm': '대구북부도매시장', 'whsalMrktNm': '대구북부도매시장'}, {'aucSeCode': 2, 'aucSeNm': '정가수의', 'catgoryCode': 10, 'catgoryNewCode': 10, 'catgoryNewNm': '엽경채류', 'catgoryNm': '엽경채류', 'cprInsttCode': 22000111, 'cprInsttNewCode': 6041404, 'cprMtcCode': 536000, 'cprMtcNm': '전라남도 해남군', 'cprUsePrdlstCode': 100100, 'cprUsePrdlstNm': '배추(일반)', 'delngDe': 20151202, 'delngPrut': 7, 'delngQy': 500, 'insttNewNm': '청과상장예외', 'insttNm': '청과상장예외', 'ledgNo': 15112903007, 'rnum': 6, 'sbidPric': 3900, 'shipmntSeCode': 3, 'shipmntSeNm': '개별', 'sleSeqn': 1001, 'stdFrmlcNewCode': '1ZZ', 'stdFrmlcNewNm': '기타', 'stdMgNewCode': '1ZZ', 'stdMgNewNm': '기타', 'stdMtcNewCode': 59000, 'stdMtcNewNm': '전라남도 해남군', 'stdPrdlstCode': 1001, 'stdPrdlstNewCode': 1001, 'stdPrdlstNewNm': '배추', 'stdPrdlstNm': '배추', 'stdQlityNewCode': 13, 'stdQlityNewNm': '보통', 'stdSpciesCode': 100101, 'stdSpciesNewCode': 100101, 'stdSpciesNewNm': '봄배추', 'stdSpciesNm': '봄배추', 'stdUnitNewCode': 12, 'stdUnitNewNm': 'kg', 'whsalMrktCode': 220001, 'whsalMrktNewCode': 1041401, 'whsalMrktNewNm': '대구북부도매시장', 'whsalMrktNm': '대구북부도매시장'}, {'aucSeCode': 2, 'aucSeNm': '정가수의', 'catgoryCode': 10, 'catgoryNewCode': 10, 'catgoryNewNm': '엽경채류', 'catgoryNm': '엽경채류', 'cprInsttCode': 22000111, 'cprInsttNewCode': 6041404, 'cprMtcCode': 536000, 'cprMtcNm': '전라남도 해남군', 'cprUsePrdlstCode': 100100, 'cprUsePrdlstNm': '배추(일반)', 'delngDe': 20151202, 'delngPrut': 7, 'delngQy': 200, 'insttNewNm': '청과상장예외', 'insttNm': '청과상장예외', 'ledgNo': 15112903007, 'rnum': 7, 'sbidPric': 4000, 'shipmntSeCode': 3, 'shipmntSeNm': '개별', 'sleSeqn': 1002, 'stdFrmlcNewCode': '1ZZ', 'stdFrmlcNewNm': '기타', 'stdMgNewCode': '1ZZ', 'stdMgNewNm': '기타', 'stdMtcNewCode': 59000, 'stdMtcNewNm': '전라남도 해남군', 'stdPrdlstCode': 1001, 'stdPrdlstNewCode': 1001, 'stdPrdlstNewNm': '배추', 'stdPrdlstNm': '배추', 'stdQlityNewCode': 13, 'stdQlityNewNm': '보통', 'stdSpciesCode': 100101, 'stdSpciesNewCode': 100101, 'stdSpciesNewNm': '봄배추', 'stdSpciesNm': '봄배추', 'stdUnitNewCode': 12, 'stdUnitNewNm': 'kg', 'whsalMrktCode': 220001, 'whsalMrktNewCode': 1041401, 'whsalMrktNewNm': '대구북부도매시장', 'whsalMrktNm': '대구북부도매시장'}, {'aucSeCode': 2, 'aucSeNm': '정가수의', 'catgoryCode': 10, 'catgoryNewCode': 10, 'catgoryNewNm': '엽경채류', 'catgoryNm': '엽경채류', 'cprInsttCode': 22000111, 'cprInsttNewCode': 6041404, 'cprMtcCode': 536000, 'cprMtcNm': '전라남도 해남군', 'cprUsePrdlstCode': 100100, 'cprUsePrdlstNm': '배추(일반)', 'delngDe': 20151202, 'delngPrut': 7, 'delngQy': 100, 'insttNewNm': '청과상장예외', 'insttNm': '청과상장예외', 'ledgNo': 15112903007, 'rnum': 8, 'sbidPric': 3500, 'shipmntSeCode': 3, 'shipmntSeNm': '개별', 'sleSeqn': 1003, 'stdFrmlcNewCode': '1ZZ', 'stdFrmlcNewNm': '기타', 'stdMgNewCode': '1ZZ', 'stdMgNewNm': '기타', 'stdMtcNewCode': 59000, 'stdMtcNewNm': '전라남도 해남군', 'stdPrdlstCode': 1001, 'stdPrdlstNewCode': 1001, 'stdPrdlstNewNm': '배추', 'stdPrdlstNm': '배추', 'stdQlityNewCode': 13, 'stdQlityNewNm': '보통', 'stdSpciesCode': 100101, 'stdSpciesNewCode': 100101, 'stdSpciesNewNm': '봄배추', 'stdSpciesNm': '봄배추', 'stdUnitNewCode': 12, 'stdUnitNewNm': 'kg', 'whsalMrktCode': 220001, 'whsalMrktNewCode': 1041401, 'whsalMrktNewNm': '대구북부도매시장', 'whsalMrktNm': '대구북부도매시장'}, {'aucSeCode': 2, 'aucSeNm': '정가수의', 'catgoryCode': 10, 'catgoryNewCode': 10, 'catgoryNewNm': '엽경채류', 'catgoryNm': '엽경채류', 'cprInsttCode': 22000111, 'cprInsttNewCode': 6041404, 'cprMtcCode': 536000, 'cprMtcNm': '전라남도 해남군', 'cprUsePrdlstCode': 100100, 'cprUsePrdlstNm': '배추(일반)', 'delngDe': 20151202, 'delngPrut': 8, 'delngQy': 130, 'insttNewNm': '청과상장예외', 'insttNm': '청과상장예외', 'ledgNo': 15112910004, 'rnum': 9, 'sbidPric': 6500, 'shipmntSeCode': 3, 'shipmntSeNm': '개별', 'sleSeqn': 1000, 'stdFrmlcNewCode': '1ZZ', 'stdFrmlcNewNm': '기타', 'stdMgNewCode': '1ZZ', 'stdMgNewNm': '기타', 'stdMtcNewCode': 59000, 'stdMtcNewNm': '전라남도 해남군', 'stdPrdlstCode': 1001, 'stdPrdlstNewCode': 1001, 'stdPrdlstNewNm': '배추', 'stdPrdlstNm': '배추', 'stdQlityNewCode': 13, 'stdQlityNewNm': '보통', 'stdSpciesCode': 100101, 'stdSpciesNewCode': 100101, 'stdSpciesNewNm': '봄배추', 'stdSpciesNm': '봄배추', 'stdUnitNewCode': 12, 'stdUnitNewNm': 'kg', 'whsalMrktCode': 220001, 'whsalMrktNewCode': 1041401, 'whsalMrktNewNm': '대구북부도매시장', 'whsalMrktNm': '대구북부도매시장'}, {'aucSeCode': 2, 'aucSeNm': '정가수의', 'catgoryCode': 10, 'catgoryNewCode': 10, 'catgoryNewNm': '엽경채류', 'catgoryNm': '엽경채류', 'cprInsttCode': 22000111, 'cprInsttNewCode': 6041404, 'cprMtcCode': 536000, 'cprMtcNm': '전라남도 해남군', 'cprUsePrdlstCode': 100100, 'cprUsePrdlstNm': '배추(일반)', 'delngDe': 20151202, 'delngPrut': 8, 'delngQy': 170, 'insttNewNm': '청과상장예외', 'insttNm': '청과상장예외', 'ledgNo': 15112910004, 'rnum': 10, 'sbidPric': 6500, 'shipmntSeCode': 3, 'shipmntSeNm': '개별', 'sleSeqn': 1001, 'stdFrmlcNewCode': '1ZZ', 'stdFrmlcNewNm': '기타', 'stdMgNewCode': '1ZZ', 'stdMgNewNm': '기타', 'stdMtcNewCode': 59000, 'stdMtcNewNm': '전라남도 해남군', 'stdPrdlstCode': 1001, 'stdPrdlstNewCode': 1001, 'stdPrdlstNewNm': '배추', 'stdPrdlstNm': '배추', 'stdQlityNewCode': 13, 'stdQlityNewNm': '보통', 'stdSpciesCode': 100101, 'stdSpciesNewCode': 100101, 'stdSpciesNewNm': '봄배추', 'stdSpciesNm': '봄배추', 'stdUnitNewCode': 12, 'stdUnitNewNm': 'kg', 'whsalMrktCode': 220001, 'whsalMrktNewCode': 1041401, 'whsalMrktNewNm': '대구북부도매시장', 'whsalMrktNm': '대구북부도매시장'}]}, 'numOfRows': 10, 'pageNo': 1, 'totalCount': 1075}\n"
     ]
    }
   ],
   "source": [
    "import requests\n",
    "import json\n",
    "\n",
    "key = 'A%2BBdMRCb0HYcIl3JNbAKV2ycHzKiFx26SBUq%2FtXOV91Z71Mmhv1U7mAc3l7rwcGivvX1lpwF99hYx5Q9TZDN9g%3D%3D'\n",
    "url = f'http://apis.data.go.kr/B552895/openapi/service/OrgPriceAuctionService/getExactProdPriceList?ServiceKey={key}&pageNo=1&numOfRows=10&delngDe=20151202&prdlstCd=1001&_type=json'\n",
    "\n",
    "print(url)\n",
    "data = requests.get(url)\n",
    "\n",
    "jo = json.loads(data.content)\n",
    "print(jo['response']['body'])"
   ]
  },
  {
   "cell_type": "code",
   "execution_count": null,
   "id": "82ddaac7",
   "metadata": {},
   "outputs": [],
   "source": []
  }
 ],
 "metadata": {
  "kernelspec": {
   "display_name": "Python 3",
   "language": "python",
   "name": "python3"
  },
  "language_info": {
   "codemirror_mode": {
    "name": "ipython",
    "version": 3
   },
   "file_extension": ".py",
   "mimetype": "text/x-python",
   "name": "python",
   "nbconvert_exporter": "python",
   "pygments_lexer": "ipython3",
   "version": "3.8.8"
  }
 },
 "nbformat": 4,
 "nbformat_minor": 5
}
